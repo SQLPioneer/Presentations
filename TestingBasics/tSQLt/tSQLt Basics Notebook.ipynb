{
    "metadata": {
        "kernelspec": {
            "name": "SQL",
            "display_name": "SQL",
            "language": "sql"
        },
        "language_info": {
            "name": "sql",
            "version": ""
        }
    },
    "nbformat_minor": 2,
    "nbformat": 4,
    "cells": [
        {
            "cell_type": "markdown",
            "source": "# Demonstrate tSQLt testing framework\r\nCreate a test class (schema) to hold all related tests\r\n",
            "metadata": {}
        },
        {
            "cell_type": "code",
            "source": "EXEC tSQLt.NewTestClass @ClassName = 'Adams Test Class'\r\n",
            "metadata": {},
            "outputs": [
                {
                    "output_type": "display_data",
                    "data": {
                        "text/html": "Commands completed successfully."
                    },
                    "metadata": {}
                },
                {
                    "output_type": "display_data",
                    "data": {
                        "text/html": "Total execution time: 00:00:00.688"
                    },
                    "metadata": {}
                }
            ],
            "execution_count": 10
        },
        {
            "cell_type": "markdown",
            "source": "Create a basic Test",
            "metadata": {}
        },
        {
            "cell_type": "code",
            "source": "CREATE OR ALTER PROCEDURE [Adams Test Class].[test basics]\r\nas \r\nBEGIN\r\n    -- Assemble \r\n    \r\n    -- Act\r\n    select 'Basic Test' column1 into #actual\r\n    select 'Basic Test' column1 into #expected\r\n    -- Assert\r\n    EXEC tSQLt.assertEqualsTable '#actual', '#expected'\r\nEND\r\nGO\r\n",
            "metadata": {},
            "outputs": [
                {
                    "output_type": "display_data",
                    "data": {
                        "text/html": "Commands completed successfully."
                    },
                    "metadata": {}
                },
                {
                    "output_type": "display_data",
                    "data": {
                        "text/html": "Total execution time: 00:00:00.014"
                    },
                    "metadata": {}
                }
            ],
            "execution_count": 11
        },
        {
            "cell_type": "markdown",
            "source": "Create a failing test",
            "metadata": {}
        },
        {
            "cell_type": "code",
            "source": "CREATE OR ALTER PROCEDURE [Adams Test Class].[test failure]\r\nas \r\nBEGIN\r\n    -- Assemble \r\n    \r\n    -- Act\r\n    select 'Basic Test Failed' column1 into #actual\r\n    select 'Basic Test' column1 into #expected\r\n    -- Assert\r\n    EXEC tSQLt.assertEqualsTable '#actual', '#expected'\r\nEND\r\n",
            "metadata": {},
            "outputs": [],
            "execution_count": 0
        },
        {
            "cell_type": "markdown",
            "source": "Run All tests in the Class",
            "metadata": {}
        },
        {
            "cell_type": "code",
            "source": "exec tSQLt.Run @TestName = 'Adams Test Class'",
            "metadata": {},
            "outputs": [],
            "execution_count": 5
        },
        {
            "cell_type": "markdown",
            "source": "Run Only 1 test in the class if the full name is specified",
            "metadata": {}
        },
        {
            "cell_type": "code",
            "source": "exec tSQLt.Run @TestName = 'Adams Test Class.test basics'",
            "metadata": {},
            "outputs": [
                {
                    "output_type": "display_data",
                    "data": {
                        "text/html": "(1 row affected)"
                    },
                    "metadata": {}
                },
                {
                    "output_type": "display_data",
                    "data": {
                        "text/html": " "
                    },
                    "metadata": {}
                },
                {
                    "output_type": "display_data",
                    "data": {
                        "text/html": "+----------------------+"
                    },
                    "metadata": {}
                },
                {
                    "output_type": "display_data",
                    "data": {
                        "text/html": "|Test Execution Summary|"
                    },
                    "metadata": {}
                },
                {
                    "output_type": "display_data",
                    "data": {
                        "text/html": "+----------------------+"
                    },
                    "metadata": {}
                },
                {
                    "output_type": "display_data",
                    "data": {
                        "text/html": " "
                    },
                    "metadata": {}
                },
                {
                    "output_type": "display_data",
                    "data": {
                        "text/html": "|No|Test Case Name                  |Dur(ms)|Result |"
                    },
                    "metadata": {}
                },
                {
                    "output_type": "display_data",
                    "data": {
                        "text/html": "+--+--------------------------------+-------+-------+"
                    },
                    "metadata": {}
                },
                {
                    "output_type": "display_data",
                    "data": {
                        "text/html": "|1 |[Adams Test Class].[test basics]|    120|Success|"
                    },
                    "metadata": {}
                },
                {
                    "output_type": "display_data",
                    "data": {
                        "text/html": "-----------------------------------------------------------------------------"
                    },
                    "metadata": {}
                },
                {
                    "output_type": "display_data",
                    "data": {
                        "text/html": "Test Case Summary: 1 test case(s) executed, 1 succeeded, 0 failed, 0 errored."
                    },
                    "metadata": {}
                },
                {
                    "output_type": "display_data",
                    "data": {
                        "text/html": "-----------------------------------------------------------------------------"
                    },
                    "metadata": {}
                },
                {
                    "output_type": "display_data",
                    "data": {
                        "text/html": "Total execution time: 00:00:00.235"
                    },
                    "metadata": {}
                }
            ],
            "execution_count": 13
        },
        {
            "cell_type": "markdown",
            "source": "test class specifing XML output",
            "metadata": {}
        },
        {
            "cell_type": "code",
            "source": "exec tSQLt.Run \r\n      @TestName = 'Adams Test Class.test basics'\r\n    , @TestResultFormatter ='tSQLt.XmlResultFormatter'\r\n\r\n",
            "metadata": {},
            "outputs": [
                {
                    "output_type": "display_data",
                    "data": {
                        "text/html": "(2 rows affected)"
                    },
                    "metadata": {}
                },
                {
                    "output_type": "display_data",
                    "data": {
                        "text/html": "Total execution time: 00:00:00.263"
                    },
                    "metadata": {}
                },
                {
                    "output_type": "execute_result",
                    "metadata": {},
                    "execution_count": 2,
                    "data": {
                        "application/vnd.dataresource+json": {
                            "schema": {
                                "fields": [
                                    {
                                        "name": "XML_F52E2B61-18A1-11d1-B105-00805F49916B"
                                    }
                                ]
                            },
                            "data": [
                                {
                                    "0": "<testsuites><testsuite id=\"1\" name=\"Adams Test Class\" tests=\"1\" errors=\"0\" failures=\"0\" timestamp=\"2019-08-05T06:57:35\" time=\"0.060\" hostname=\"AW_DEV\" package=\"tSQLt\"><properties/><testcase classname=\"Adams Test Class\" name=\"test basics\" time=\"0.060\"/><system-out/><system-err/></testsuite></testsuites>"
                                }
                            ]
                        },
                        "text/html": "<table><tr><th>XML_F52E2B61-18A1-11d1-B105-00805F49916B</th></tr><tr><td>&lt;testsuites&gt;&lt;testsuite id=&quot;1&quot; name=&quot;Adams Test Class&quot; tests=&quot;1&quot; errors=&quot;0&quot; failures=&quot;0&quot; timestamp=&quot;2019-08-05T06:57:35&quot; time=&quot;0.060&quot; hostname=&quot;AW_DEV&quot; package=&quot;tSQLt&quot;&gt;&lt;properties/&gt;&lt;testcase classname=&quot;Adams Test Class&quot; name=&quot;test basics&quot; time=&quot;0.060&quot;/&gt;&lt;system-out/&gt;&lt;system-err/&gt;&lt;/testsuite&gt;&lt;/testsuites&gt;</td></tr></table>"
                    }
                }
            ],
            "execution_count": 2
        },
        {
            "cell_type": "markdown",
            "source": "Create a new Test class for the ufnGetStock function to demonstrate Faking a table",
            "metadata": {}
        },
        {
            "cell_type": "code",
            "source": "\r\nEXEC tSQLt.newTestClass @ClassName = 'ufnGetStock'\r\nGO\r\n\r\nCREATE OR ALTER\tPROCEDURE ufnGetStock.[test given product 1000 then Quantity 100] \r\nAS\r\nBEGIN\t\r\n\r\n--\tBEGIN TRANSACTION\r\n\t-- Arrange\r\n    DECLARE @actual SMALLINT;\r\n\tDECLARE @expected SMALLINT;\r\n    SET @expected = '100';\r\n\tEXEC tsqlt.FakeTable @TableName = 'Production.ProductInventory'\r\n\tINSERT INTO Production.ProductInventory (ProductID, Quantity, LocationID) VALUES ('1000','20',6),('1000','20',6),('1000','60',6),('1000','60',4)\r\n\t--SELECT * FROM Production.ProductInventory WHERE Production.ProductInventory.ProductID\t = 1000\r\n\t\r\n\t-- Act\r\n\tSELECT @actual = dbo.ufnGetStock(1000)\r\n    -- Assert\r\n\tEXEC tSQLt.AssertEquals @expected, @actual;\r\n\r\n\t--ROLLBACK TRANSACTION\r\n\r\nEND\r\n\r\n",
            "metadata": {},
            "outputs": [
                {
                    "output_type": "display_data",
                    "data": {
                        "text/html": "(1 row affected)"
                    },
                    "metadata": {}
                },
                {
                    "output_type": "display_data",
                    "data": {
                        "text/html": "[ufnGetAccountingEndDateTests].[test Show a failing test] failed: (Failure) Expected: <Jun 30 2004 11:59PM> but was: <Jun 30 2004 11:59PM>"
                    },
                    "metadata": {}
                },
                {
                    "output_type": "display_data",
                    "data": {
                        "text/html": "[ufnGetProductListPrice].[test function returns the correct result] failed: (Error) A .NET Framework error occurred during execution of user-defined routine or aggregate \"SuppressOutput\": "
                    },
                    "metadata": {}
                },
                {
                    "output_type": "display_data",
                    "data": {
                        "text/html": "System.Data.SqlClient.SqlException: Object '[Production].[Product]' cannot be renamed because the object participates in enforced dependencies."
                    },
                    "metadata": {}
                },
                {
                    "output_type": "display_data",
                    "data": {
                        "text/html": "System.Data.SqlClient.SqlException: "
                    },
                    "metadata": {}
                },
                {
                    "output_type": "display_data",
                    "data": {
                        "text/html": "   at System.Data.SqlClient.SqlConnection.OnError(SqlException exception, Boolean breakConnection, Action`1 wrapCloseInAction)"
                    },
                    "metadata": {}
                },
                {
                    "output_type": "display_data",
                    "data": {
                        "text/html": "   at System.Data.SqlClient.SqlInternalConnectionSmi.EventSink.DispatchMessages(Boolean ignoreNonFatalMessages)"
                    },
                    "metadata": {}
                },
                {
                    "output_type": "display_data",
                    "data": {
                        "text/html": "   at System.Data.SqlClient.SqlDataReaderSmi.InternalNextResult(Boolean ignoreNonFatalMessages)"
                    },
                    "metadata": {}
                },
                {
                    "output_type": "display_data",
                    "data": {
                        "text/html": "   at System.Data.SqlClient.SqlDataReaderSmi.NextResult()"
                    },
                    "metadata": {}
                },
                {
                    "output_type": "display_data",
                    "data": {
                        "text/html": "   at System.Data.SqlClient.SqlCommand.RunExecuteReaderSmi(CommandBehavior cmdBehavior, RunBehavior runBehavior, Boolean returnStream)"
                    },
                    "metadata": {}
                },
                {
                    "output_type": "display_data",
                    "data": {
                        "text/html": "   at System.Data.SqlClient.SqlCommand.RunExecuteReader(CommandBehavior cmdBehavior, RunBehavior runBehavior, Boolean returnStream, String method, TaskCompletionSource`1 completion, Int32 timeout, Task& task, Boolean& usedCache, Boolean asyncWrite, Boolean inRetry)"
                    },
                    "metadata": {}
                },
                {
                    "output_type": "display_data",
                    "data": {
                        "text/html": "   at System.Data.SqlClient.SqlCommand.RunExecuteReader(CommandBehavior cmdBehavior, RunBehavior runBehavior, Boolean returnStream, String method)"
                    },
                    "metadata": {}
                },
                {
                    "output_type": "display_data",
                    "data": {
                        "text/html": "   at System.Data.SqlClient.SqlCommand.ExecuteReader(CommandBehavior behavior, String method)"
                    },
                    "metadata": {}
                },
                {
                    "output_type": "display_data",
                    "data": {
                        "text/html": "   at System.Data.SqlClient.SqlCommand.ExecuteReader(CommandBehavior behavior)"
                    },
                    "metadata": {}
                },
                {
                    "output_type": "display_data",
                    "data": {
                        "text/html": "   at tSQLtCLR.TestDatabaseFacade.executeCommand(SqlString Command)"
                    },
                    "metadata": {}
                },
                {
                    "output_type": "display_data",
                    "data": {
                        "text/html": "   at tSQLtCLR.StoredProcedures.SuppressOutput(SqlString command)"
                    },
                    "metadata": {}
                },
                {
                    "output_type": "display_data",
                    "data": {
                        "text/html": ".[16,1]{tSQLt.SuppressOutput,0}"
                    },
                    "metadata": {}
                },
                {
                    "output_type": "display_data",
                    "data": {
                        "text/html": " "
                    },
                    "metadata": {}
                },
                {
                    "output_type": "display_data",
                    "data": {
                        "text/html": "+----------------------+"
                    },
                    "metadata": {}
                },
                {
                    "output_type": "display_data",
                    "data": {
                        "text/html": "|Test Execution Summary|"
                    },
                    "metadata": {}
                },
                {
                    "output_type": "display_data",
                    "data": {
                        "text/html": "+----------------------+"
                    },
                    "metadata": {}
                },
                {
                    "output_type": "display_data",
                    "data": {
                        "text/html": " "
                    },
                    "metadata": {}
                },
                {
                    "output_type": "display_data",
                    "data": {
                        "text/html": "|No|Test Case Name                                                                             |Dur(ms)|Result |"
                    },
                    "metadata": {}
                },
                {
                    "output_type": "display_data",
                    "data": {
                        "text/html": "+--+-------------------------------------------------------------------------------------------+-------+-------+"
                    },
                    "metadata": {}
                },
                {
                    "output_type": "display_data",
                    "data": {
                        "text/html": "|1 |[Adams Test Class].[test basics]                                                           |    263|Success|"
                    },
                    "metadata": {}
                },
                {
                    "output_type": "display_data",
                    "data": {
                        "text/html": "|2 |[ufnGetAccountingEndDateTests].[test that correct accounting end date is returned]         |     17|Success|"
                    },
                    "metadata": {}
                },
                {
                    "output_type": "display_data",
                    "data": {
                        "text/html": "|3 |[ufnGetAccountingStartDate].[test that correct accounting end date is returned]            |     47|Success|"
                    },
                    "metadata": {}
                },
                {
                    "output_type": "display_data",
                    "data": {
                        "text/html": "|4 |[ufnGetContactInformation].[test that the correct contact information is returned for 4351]|   1140|Success|"
                    },
                    "metadata": {}
                },
                {
                    "output_type": "display_data",
                    "data": {
                        "text/html": "|5 |[ufnGetStock].[test given product 1000 then Quantity 100]                                  |    110|Success|"
                    },
                    "metadata": {}
                },
                {
                    "output_type": "display_data",
                    "data": {
                        "text/html": "|6 |[ufnGetAccountingEndDateTests].[test Show a failing test]                                  |      0|Failure|"
                    },
                    "metadata": {}
                },
                {
                    "output_type": "display_data",
                    "data": {
                        "text/html": "|7 |[ufnGetProductListPrice].[test function returns the correct result]                        |    500|Error  |"
                    },
                    "metadata": {}
                },
                {
                    "output_type": "display_data",
                    "data": {
                        "text/html": "-----------------------------------------------------------------------------"
                    },
                    "metadata": {}
                },
                {
                    "output_type": "error",
                    "evalue": "Msg 50000, Level 16, State 10, Line 1\r\nTest Case Summary: 7 test case(s) executed, 5 succeeded, 1 failed, 1 errored.",
                    "ename": "",
                    "traceback": []
                },
                {
                    "output_type": "display_data",
                    "data": {
                        "text/html": "-----------------------------------------------------------------------------"
                    },
                    "metadata": {}
                },
                {
                    "output_type": "display_data",
                    "data": {
                        "text/html": "(7 rows affected)"
                    },
                    "metadata": {}
                },
                {
                    "output_type": "display_data",
                    "data": {
                        "text/html": "Total execution time: 00:00:02.407"
                    },
                    "metadata": {}
                },
                {
                    "output_type": "execute_result",
                    "metadata": {},
                    "execution_count": 14,
                    "data": {
                        "application/vnd.dataresource+json": {
                            "schema": {
                                "fields": [
                                    {
                                        "name": "Id"
                                    },
                                    {
                                        "name": "Class"
                                    },
                                    {
                                        "name": "TestCase"
                                    },
                                    {
                                        "name": "Name"
                                    },
                                    {
                                        "name": "TranName"
                                    },
                                    {
                                        "name": "Result"
                                    },
                                    {
                                        "name": "Msg"
                                    },
                                    {
                                        "name": "TestStartTime"
                                    },
                                    {
                                        "name": "TestEndTime"
                                    }
                                ]
                            },
                            "data": [
                                {
                                    "0": "204",
                                    "1": "ufnGetAccountingEndDateTests",
                                    "2": "test Show a failing test",
                                    "3": "[ufnGetAccountingEndDateTests].[test Show a failing test]",
                                    "4": "tSQLtTranD3033F762D0241888039FF5",
                                    "5": "Failure",
                                    "6": "Expected: <Jun 30 2004 11:59PM> but was: <Jun 30 2004 11:59PM>",
                                    "7": "2019-08-05 19:47:38.517",
                                    "8": "2019-08-05 19:47:38.517"
                                },
                                {
                                    "0": "205",
                                    "1": "ufnGetAccountingEndDateTests",
                                    "2": "test that correct accounting end date is returned",
                                    "3": "[ufnGetAccountingEndDateTests].[test that correct accounting end date is returned]",
                                    "4": "tSQLtTran327A363393E84623B4AE5D1",
                                    "5": "Success",
                                    "6": "",
                                    "7": "2019-08-05 19:47:38.533",
                                    "8": "2019-08-05 19:47:38.550"
                                },
                                {
                                    "0": "206",
                                    "1": "ufnGetAccountingStartDate",
                                    "2": "test that correct accounting end date is returned",
                                    "3": "[ufnGetAccountingStartDate].[test that correct accounting end date is returned]",
                                    "4": "tSQLtTran7CED39F8BD8B4E41ACA7B19",
                                    "5": "Success",
                                    "6": "",
                                    "7": "2019-08-05 19:47:38.563",
                                    "8": "2019-08-05 19:47:38.610"
                                },
                                {
                                    "0": "207",
                                    "1": "ufnGetContactInformation",
                                    "2": "test that the correct contact information is returned for 4351",
                                    "3": "[ufnGetContactInformation].[test that the correct contact information is returned for 4351]",
                                    "4": "tSQLtTranB9D9FA20818B41ADB323B68",
                                    "5": "Success",
                                    "6": "",
                                    "7": "2019-08-05 19:47:38.610",
                                    "8": "2019-08-05 19:47:39.750"
                                },
                                {
                                    "0": "208",
                                    "1": "Adams Test Class",
                                    "2": "test basics",
                                    "3": "[Adams Test Class].[test basics]",
                                    "4": "tSQLtTran426876780EBF40598FFF439",
                                    "5": "Success",
                                    "6": "",
                                    "7": "2019-08-05 19:47:39.813",
                                    "8": "2019-08-05 19:47:40.077"
                                },
                                {
                                    "0": "209",
                                    "1": "ufnGetProductListPrice",
                                    "2": "test function returns the correct result",
                                    "3": "[ufnGetProductListPrice].[test function returns the correct result]",
                                    "4": "tSQLtTran83EF7658879D4920AB49D07",
                                    "5": "Error",
                                    "6": "A .NET Framework error occurred during execution of user-defined routine or aggregate \"SuppressOutput\": \r\nSystem.Data.SqlClient.SqlException: Object '[Production].[Product]' cannot be renamed because the object participates in enforced dependencies.\r\nSystem.Data.SqlClient.SqlException: \r\n   at System.Data.SqlClient.SqlConnection.OnError(SqlException exception, Boolean breakConnection, Action`1 wrapCloseInAction)\r\n   at System.Data.SqlClient.SqlInternalConnectionSmi.EventSink.DispatchMessages(Boolean ignoreNonFatalMessages)\r\n   at System.Data.SqlClient.SqlDataReaderSmi.InternalNextResult(Boolean ignoreNonFatalMessages)\r\n   at System.Data.SqlClient.SqlDataReaderSmi.NextResult()\r\n   at System.Data.SqlClient.SqlCommand.RunExecuteReaderSmi(CommandBehavior cmdBehavior, RunBehavior runBehavior, Boolean returnStream)\r\n   at System.Data.SqlClient.SqlCommand.RunExecuteReader(CommandBehavior cmdBehavior, RunBehavior runBehavior, Boolean returnStream, String method, TaskCompletionSource`1 completion, Int32 timeout, Task& task, Boolean& usedCache, Boolean asyncWrite, Boolean inRetry)\r\n   at System.Data.SqlClient.SqlCommand.RunExecuteReader(CommandBehavior cmdBehavior, RunBehavior runBehavior, Boolean returnStream, String method)\r\n   at System.Data.SqlClient.SqlCommand.ExecuteReader(CommandBehavior behavior, String method)\r\n   at System.Data.SqlClient.SqlCommand.ExecuteReader(CommandBehavior behavior)\r\n   at tSQLtCLR.TestDatabaseFacade.executeCommand(SqlString Command)\r\n   at tSQLtCLR.StoredProcedures.SuppressOutput(SqlString command)\r\n.[16,1]{tSQLt.SuppressOutput,0}",
                                    "7": "2019-08-05 19:47:40.170",
                                    "8": "2019-08-05 19:47:40.670"
                                },
                                {
                                    "0": "210",
                                    "1": "ufnGetStock",
                                    "2": "test given product 1000 then Quantity 100",
                                    "3": "[ufnGetStock].[test given product 1000 then Quantity 100]",
                                    "4": "tSQLtTranF1577A9268054B1CA334F2C",
                                    "5": "Success",
                                    "6": "",
                                    "7": "2019-08-05 19:47:40.717",
                                    "8": "2019-08-05 19:47:40.827"
                                }
                            ]
                        },
                        "text/html": "<table><tr><th>Id</th><th>Class</th><th>TestCase</th><th>Name</th><th>TranName</th><th>Result</th><th>Msg</th><th>TestStartTime</th><th>TestEndTime</th></tr><tr><td>204</td><td>ufnGetAccountingEndDateTests</td><td>test Show a failing test</td><td>[ufnGetAccountingEndDateTests].[test Show a failing test]</td><td>tSQLtTranD3033F762D0241888039FF5</td><td>Failure</td><td>Expected: &lt;Jun 30 2004 11:59PM&gt; but was: &lt;Jun 30 2004 11:59PM&gt;</td><td>2019-08-05 19:47:38.517</td><td>2019-08-05 19:47:38.517</td></tr><tr><td>205</td><td>ufnGetAccountingEndDateTests</td><td>test that correct accounting end date is returned</td><td>[ufnGetAccountingEndDateTests].[test that correct accounting end date is returned]</td><td>tSQLtTran327A363393E84623B4AE5D1</td><td>Success</td><td></td><td>2019-08-05 19:47:38.533</td><td>2019-08-05 19:47:38.550</td></tr><tr><td>206</td><td>ufnGetAccountingStartDate</td><td>test that correct accounting end date is returned</td><td>[ufnGetAccountingStartDate].[test that correct accounting end date is returned]</td><td>tSQLtTran7CED39F8BD8B4E41ACA7B19</td><td>Success</td><td></td><td>2019-08-05 19:47:38.563</td><td>2019-08-05 19:47:38.610</td></tr><tr><td>207</td><td>ufnGetContactInformation</td><td>test that the correct contact information is returned for 4351</td><td>[ufnGetContactInformation].[test that the correct contact information is returned for 4351]</td><td>tSQLtTranB9D9FA20818B41ADB323B68</td><td>Success</td><td></td><td>2019-08-05 19:47:38.610</td><td>2019-08-05 19:47:39.750</td></tr><tr><td>208</td><td>Adams Test Class</td><td>test basics</td><td>[Adams Test Class].[test basics]</td><td>tSQLtTran426876780EBF40598FFF439</td><td>Success</td><td></td><td>2019-08-05 19:47:39.813</td><td>2019-08-05 19:47:40.077</td></tr><tr><td>209</td><td>ufnGetProductListPrice</td><td>test function returns the correct result</td><td>[ufnGetProductListPrice].[test function returns the correct result]</td><td>tSQLtTran83EF7658879D4920AB49D07</td><td>Error</td><td>A .NET Framework error occurred during execution of user-defined routine or aggregate &quot;SuppressOutput&quot;: \r\nSystem.Data.SqlClient.SqlException: Object '[Production].[Product]' cannot be renamed because the object participates in enforced dependencies.\r\nSystem.Data.SqlClient.SqlException: \r\n   at System.Data.SqlClient.SqlConnection.OnError(SqlException exception, Boolean breakConnection, Action`1 wrapCloseInAction)\r\n   at System.Data.SqlClient.SqlInternalConnectionSmi.EventSink.DispatchMessages(Boolean ignoreNonFatalMessages)\r\n   at System.Data.SqlClient.SqlDataReaderSmi.InternalNextResult(Boolean ignoreNonFatalMessages)\r\n   at System.Data.SqlClient.SqlDataReaderSmi.NextResult()\r\n   at System.Data.SqlClient.SqlCommand.RunExecuteReaderSmi(CommandBehavior cmdBehavior, RunBehavior runBehavior, Boolean returnStream)\r\n   at System.Data.SqlClient.SqlCommand.RunExecuteReader(CommandBehavior cmdBehavior, RunBehavior runBehavior, Boolean returnStream, String method, TaskCompletionSource`1 completion, Int32 timeout, Task&amp; task, Boolean&amp; usedCache, Boolean asyncWrite, Boolean inRetry)\r\n   at System.Data.SqlClient.SqlCommand.RunExecuteReader(CommandBehavior cmdBehavior, RunBehavior runBehavior, Boolean returnStream, String method)\r\n   at System.Data.SqlClient.SqlCommand.ExecuteReader(CommandBehavior behavior, String method)\r\n   at System.Data.SqlClient.SqlCommand.ExecuteReader(CommandBehavior behavior)\r\n   at tSQLtCLR.TestDatabaseFacade.executeCommand(SqlString Command)\r\n   at tSQLtCLR.StoredProcedures.SuppressOutput(SqlString command)\r\n.[16,1]{tSQLt.SuppressOutput,0}</td><td>2019-08-05 19:47:40.170</td><td>2019-08-05 19:47:40.670</td></tr><tr><td>210</td><td>ufnGetStock</td><td>test given product 1000 then Quantity 100</td><td>[ufnGetStock].[test given product 1000 then Quantity 100]</td><td>tSQLtTranF1577A9268054B1CA334F2C</td><td>Success</td><td></td><td>2019-08-05 19:47:40.717</td><td>2019-08-05 19:47:40.827</td></tr></table>"
                    }
                }
            ],
            "execution_count": 14
        }
    ]
}